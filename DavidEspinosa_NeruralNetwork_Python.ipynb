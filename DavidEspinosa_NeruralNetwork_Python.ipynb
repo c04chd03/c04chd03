{
  "nbformat": 4,
  "nbformat_minor": 0,
  "metadata": {
    "colab": {
      "provenance": [],
      "authorship_tag": "ABX9TyMNg2fARF2IztXtTMoLgdPO",
      "include_colab_link": true
    },
    "kernelspec": {
      "name": "python3",
      "display_name": "Python 3"
    },
    "language_info": {
      "name": "python"
    }
  },
  "cells": [
    {
      "cell_type": "markdown",
      "metadata": {
        "id": "view-in-github",
        "colab_type": "text"
      },
      "source": [
        "<a href=\"https://colab.research.google.com/github/c04chd03/c04chd03/blob/main/DavidEspinosa_NeruralNetwork_Python.ipynb\" target=\"_parent\"><img src=\"https://colab.research.google.com/assets/colab-badge.svg\" alt=\"Open In Colab\"/></a>"
      ]
    },
    {
      "cell_type": "code",
      "execution_count": 2,
      "metadata": {
        "id": "lFxxzxjxWscG"
      },
      "outputs": [],
      "source": [
        "# import the necessary libraries\n",
        "import numpy as np\n",
        "import matplotlib.pyplot as plt"
      ]
    },
    {
      "cell_type": "code",
      "source": [
        "#import the training data\n",
        "X = np.array([[0,0], [0,1],[1,0],[1,1]])\n",
        "y = np.array ([[0], [1], [1], [0]])"
      ],
      "metadata": {
        "id": "USgTjWD1W7Gk"
      },
      "execution_count": 3,
      "outputs": []
    },
    {
      "cell_type": "code",
      "source": [
        "#Define the random numbers for parameters (weight and biases)\n",
        "weights1 = np.random.randn(2, 3)\n",
        "weights2 = np.random.randn(3, 1)\n",
        "bias1 = np.zeros((1, 3))\n",
        "bias2 = np.zeros((1, 1))"
      ],
      "metadata": {
        "id": "9oegj27zXpzt"
      },
      "execution_count": 4,
      "outputs": []
    },
    {
      "cell_type": "code",
      "source": [
        "#Define the NN Architecture\n",
        "def sigmoid(x):\n",
        " return 1 / (1 + np.exp(-x))\n",
        "Hidden_layer = np.dot(X, weights1) + bias1\n",
        "hidden_activation = sigmoid(Hidden_layer)\n",
        "output = np.dot(hidden_activation, weights2) + bias2\n",
        "output_activation = sigmoid(output)"
      ],
      "metadata": {
        "id": "QuZ7zFj2YBMs"
      },
      "execution_count": 5,
      "outputs": []
    },
    {
      "cell_type": "code",
      "source": [
        "#Define the training loop\n",
        "losses = []\n",
        "learning_rate = 0.001\n",
        "for epoch in range(100):\n",
        " Hidden_layer = np.dot(X, weights1) + bias1\n",
        "hidden_activation = sigmoid(Hidden_layer)\n",
        "output = np.dot(hidden_activation, weights2) + bias2\n",
        "output_activation = sigmoid(output)"
      ],
      "metadata": {
        "id": "c_i5ppv7YL2d"
      },
      "execution_count": 6,
      "outputs": []
    },
    {
      "cell_type": "code",
      "source": [
        "#define the error\n",
        "error = y - output_activation\n",
        "sigmoid_derivative1 = output_activation * (1 - output_activation)\n",
        "d_output = error * sigmoid_derivative1\n",
        "error_hidden = d_output.dot(weights2.T)\n",
        "sigmoid_derivative2 = hidden_activation * (1 - hidden_activation)\n",
        "d_hidden = error_hidden * sigmoid_derivative2"
      ],
      "metadata": {
        "id": "bGVOJhq0YZxG"
      },
      "execution_count": 19,
      "outputs": []
    },
    {
      "cell_type": "code",
      "source": [
        "#update parameters\n",
        "weights2 = weights2 + hidden_activation.T.dot(d_output) * learning_rate\n",
        "weights1 = weights1 + X.T.dot(d_hidden) * learning_rate\n",
        "bias2 = bias2 + np.sum(d_output, axis=0, keepdims=True) * learning_rate\n",
        "bias1 = bias1 + np.sum(d_hidden, axis=0, keepdims=True) * learning_rate"
      ],
      "metadata": {
        "id": "COnBcQOSYYZo"
      },
      "execution_count": 18,
      "outputs": []
    },
    {
      "cell_type": "code",
      "source": [
        "#compute loss\n",
        "loss = np.mean(np.abs(error))\n",
        "losses.append(loss)\n",
        "print(f\"Epoch: {epoch}, Loss: {loss}\")"
      ],
      "metadata": {
        "colab": {
          "base_uri": "https://localhost:8080/"
        },
        "id": "tHWWHhCbYZOX",
        "outputId": "8e5d1873-0acc-463b-e93e-997b4fd5cbb0"
      },
      "execution_count": 20,
      "outputs": [
        {
          "output_type": "stream",
          "name": "stdout",
          "text": [
            "Epoch: 99, Loss: 0.5000103427553366\n"
          ]
        }
      ]
    }
  ]
}