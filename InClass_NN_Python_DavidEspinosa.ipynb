{
  "nbformat": 4,
  "nbformat_minor": 0,
  "metadata": {
    "colab": {
      "provenance": [],
      "authorship_tag": "ABX9TyMWWg/2lvaYYY/ordZRQICJ",
      "include_colab_link": true
    },
    "kernelspec": {
      "name": "python3",
      "display_name": "Python 3"
    },
    "language_info": {
      "name": "python"
    }
  },
  "cells": [
    {
      "cell_type": "markdown",
      "metadata": {
        "id": "view-in-github",
        "colab_type": "text"
      },
      "source": [
        "<a href=\"https://colab.research.google.com/github/c04chd03/c04chd03/blob/main/InClass_NN_Python_DavidEspinosa.ipynb\" target=\"_parent\"><img src=\"https://colab.research.google.com/assets/colab-badge.svg\" alt=\"Open In Colab\"/></a>"
      ]
    },
    {
      "cell_type": "code",
      "source": [
        "#Import Required Libraries\n",
        "import numpy as np\n",
        "import matplotlib.pyplot as plt"
      ],
      "metadata": {
        "id": "N034Y-vzcTGd"
      },
      "execution_count": 16,
      "outputs": []
    },
    {
      "cell_type": "code",
      "source": [
        "# Define the Training Data\n",
        "X = np.array([[0, 0], [0, 1], [1, 0], [1, 1]])\n",
        "y = np.array([[0], [1], [1], [0]])"
      ],
      "metadata": {
        "id": "Qa6tvXj1cZ7d"
      },
      "execution_count": 17,
      "outputs": []
    },
    {
      "cell_type": "code",
      "source": [
        "#Define random numbers for parameters (weights and biases):\n",
        "weights1 = np.random.randn(2, 3)\n",
        "weights2 = np.random.randn(3, 1)\n",
        "bias1 = np.zeros((1, 3))\n",
        "bias2 = np.zeros((1, 1))"
      ],
      "metadata": {
        "id": "lQUue2DtceKd"
      },
      "execution_count": 27,
      "outputs": []
    },
    {
      "cell_type": "code",
      "source": [
        "#Define the Neural Network Architecture:\n",
        "def sigmoid(x):\n",
        " return 1 / (1 + np.exp(-x))\n",
        "Hidden_layer = np.dot(X, weights1) + bias1\n",
        "hidden_activation = sigmoid(Hidden_layer)\n",
        "output = np.dot(hidden_activation, weights2) + bias2\n",
        "output_activation = sigmoid(output)"
      ],
      "metadata": {
        "id": "H9B-7RLZcirG"
      },
      "execution_count": 19,
      "outputs": []
    },
    {
      "cell_type": "code",
      "execution_count": 28,
      "metadata": {
        "colab": {
          "base_uri": "https://localhost:8080/"
        },
        "id": "jizh1Yu1cSX3",
        "outputId": "e8f9e1cb-c181-40ef-ca43-aa6b4a8a2d59"
      },
      "outputs": [
        {
          "output_type": "stream",
          "name": "stdout",
          "text": [
            "Epoch: 0, Loss: 0.5009676881180783\n",
            "Epoch: 1, Loss: 0.500967017020139\n",
            "Epoch: 2, Loss: 0.5009663457886142\n",
            "Epoch: 3, Loss: 0.5009656744236672\n",
            "Epoch: 4, Loss: 0.5009650029254623\n",
            "Epoch: 5, Loss: 0.5009643312941627\n",
            "Epoch: 6, Loss: 0.5009636595299323\n",
            "Epoch: 7, Loss: 0.5009629876329347\n",
            "Epoch: 8, Loss: 0.5009623156033336\n",
            "Epoch: 9, Loss: 0.5009616434412926\n",
            "Epoch: 10, Loss: 0.5009609711469754\n",
            "Epoch: 11, Loss: 0.5009602987205455\n",
            "Epoch: 12, Loss: 0.5009596261621667\n",
            "Epoch: 13, Loss: 0.5009589534720025\n",
            "Epoch: 14, Loss: 0.5009582806502165\n",
            "Epoch: 15, Loss: 0.5009576076969723\n",
            "Epoch: 16, Loss: 0.5009569346124335\n",
            "Epoch: 17, Loss: 0.5009562613967635\n",
            "Epoch: 18, Loss: 0.500955588050126\n",
            "Epoch: 19, Loss: 0.5009549145726844\n",
            "Epoch: 20, Loss: 0.5009542409646023\n",
            "Epoch: 21, Loss: 0.5009535672260431\n",
            "Epoch: 22, Loss: 0.5009528933571706\n",
            "Epoch: 23, Loss: 0.5009522193581479\n",
            "Epoch: 24, Loss: 0.5009515452291387\n",
            "Epoch: 25, Loss: 0.5009508709703063\n",
            "Epoch: 26, Loss: 0.5009501965818143\n",
            "Epoch: 27, Loss: 0.5009495220638259\n",
            "Epoch: 28, Loss: 0.5009488474165047\n",
            "Epoch: 29, Loss: 0.500948172640014\n",
            "Epoch: 30, Loss: 0.5009474977345172\n",
            "Epoch: 31, Loss: 0.5009468227001778\n",
            "Epoch: 32, Loss: 0.5009461475371588\n",
            "Epoch: 33, Loss: 0.5009454722456239\n",
            "Epoch: 34, Loss: 0.5009447968257362\n",
            "Epoch: 35, Loss: 0.5009441212776591\n",
            "Epoch: 36, Loss: 0.5009434456015558\n",
            "Epoch: 37, Loss: 0.5009427697975897\n",
            "Epoch: 38, Loss: 0.500942093865924\n",
            "Epoch: 39, Loss: 0.500941417806722\n",
            "Epoch: 40, Loss: 0.5009407416201467\n",
            "Epoch: 41, Loss: 0.5009400653063616\n",
            "Epoch: 42, Loss: 0.5009393888655296\n",
            "Epoch: 43, Loss: 0.5009387122978142\n",
            "Epoch: 44, Loss: 0.5009380356033782\n",
            "Epoch: 45, Loss: 0.500937358782385\n",
            "Epoch: 46, Loss: 0.5009366818349977\n",
            "Epoch: 47, Loss: 0.5009360047613793\n",
            "Epoch: 48, Loss: 0.500935327561693\n",
            "Epoch: 49, Loss: 0.5009346502361018\n",
            "Epoch: 50, Loss: 0.5009339727847688\n",
            "Epoch: 51, Loss: 0.5009332952078571\n",
            "Epoch: 52, Loss: 0.5009326175055295\n",
            "Epoch: 53, Loss: 0.5009319396779492\n",
            "Epoch: 54, Loss: 0.5009312617252791\n",
            "Epoch: 55, Loss: 0.5009305836476823\n",
            "Epoch: 56, Loss: 0.5009299054453215\n",
            "Epoch: 57, Loss: 0.5009292271183597\n",
            "Epoch: 58, Loss: 0.5009285486669599\n",
            "Epoch: 59, Loss: 0.500927870091285\n",
            "Epoch: 60, Loss: 0.5009271913914979\n",
            "Epoch: 61, Loss: 0.5009265125677612\n",
            "Epoch: 62, Loss: 0.500925833620238\n",
            "Epoch: 63, Loss: 0.5009251545490909\n",
            "Epoch: 64, Loss: 0.5009244753544828\n",
            "Epoch: 65, Loss: 0.5009237960365767\n",
            "Epoch: 66, Loss: 0.5009231165955348\n",
            "Epoch: 67, Loss: 0.5009224370315204\n",
            "Epoch: 68, Loss: 0.5009217573446958\n",
            "Epoch: 69, Loss: 0.5009210775352237\n",
            "Epoch: 70, Loss: 0.5009203976032672\n",
            "Epoch: 71, Loss: 0.5009197175489886\n",
            "Epoch: 72, Loss: 0.5009190373725505\n",
            "Epoch: 73, Loss: 0.5009183570741156\n",
            "Epoch: 74, Loss: 0.5009176766538465\n",
            "Epoch: 75, Loss: 0.5009169961119057\n",
            "Epoch: 76, Loss: 0.5009163154484557\n",
            "Epoch: 77, Loss: 0.5009156346636591\n",
            "Epoch: 78, Loss: 0.5009149537576784\n",
            "Epoch: 79, Loss: 0.500914272730676\n",
            "Epoch: 80, Loss: 0.5009135915828145\n",
            "Epoch: 81, Loss: 0.5009129103142561\n",
            "Epoch: 82, Loss: 0.5009122289251634\n",
            "Epoch: 83, Loss: 0.5009115474156989\n",
            "Epoch: 84, Loss: 0.5009108657860245\n",
            "Epoch: 85, Loss: 0.5009101840363028\n",
            "Epoch: 86, Loss: 0.5009095021666963\n",
            "Epoch: 87, Loss: 0.500908820177367\n",
            "Epoch: 88, Loss: 0.5009081380684772\n",
            "Epoch: 89, Loss: 0.5009074558401894\n",
            "Epoch: 90, Loss: 0.5009067734926654\n",
            "Epoch: 91, Loss: 0.5009060910260678\n",
            "Epoch: 92, Loss: 0.5009054084405584\n",
            "Epoch: 93, Loss: 0.5009047257362997\n",
            "Epoch: 94, Loss: 0.5009040429134536\n",
            "Epoch: 95, Loss: 0.5009033599721823\n",
            "Epoch: 96, Loss: 0.5009026769126477\n",
            "Epoch: 97, Loss: 0.5009019937350121\n",
            "Epoch: 98, Loss: 0.5009013104394372\n",
            "Epoch: 99, Loss: 0.5009006270260853\n"
          ]
        }
      ],
      "source": [
        "#Define the training loop\n",
        "losses = []\n",
        "learning_rate = 0.001\n",
        "for epoch in range(100):\n",
        "      Hidden_layer = np.dot(X, weights1) + bias1\n",
        "      hidden_activation = sigmoid(Hidden_layer)\n",
        "      output = np.dot(hidden_activation, weights2) + bias2\n",
        "      output_activation = sigmoid(output)\n",
        "\n",
        "      #define the error\n",
        "      error = y - output_activation\n",
        "      sigmoid_derivative1 = output_activation * (1- output_activation)\n",
        "      d_output = error * sigmoid_derivative1\n",
        "      error_hidden = d_output.dot(weights2.T)\n",
        "      sigmoid_derivative2 = hidden_activation * (1- hidden_activation)\n",
        "      d_hidden = error_hidden * sigmoid_derivative2\n",
        "      #update parameters\n",
        "      weights2 = weights2 + hidden_activation.T.dot(d_output) * learning_rate\n",
        "      weights1 = weights1 + X.T.dot(d_hidden) * learning_rate\n",
        "      bias2 = bias2 + np.sum(d_output, axis=0, keepdims=True) * learning_rate\n",
        "      bias1 = bias1 + np.sum(d_hidden, axis=0, keepdims=True) * learning_rate\n",
        "\n",
        "      #compute loss\n",
        "      loss = np.mean(np.abs(error))\n",
        "      losses.append(loss)\n",
        "      print (f\"Epoch: {epoch}, Loss: {loss}\")"
      ]
    },
    {
      "cell_type": "code",
      "source": [
        "plt.plot(losses)"
      ],
      "metadata": {
        "colab": {
          "base_uri": "https://localhost:8080/",
          "height": 447
        },
        "id": "3ubLRJpbetq5",
        "outputId": "20cd32e7-3c07-4527-f0bd-c82fb9bf5aad"
      },
      "execution_count": 29,
      "outputs": [
        {
          "output_type": "execute_result",
          "data": {
            "text/plain": [
              "[<matplotlib.lines.Line2D at 0x7f08985ebfd0>]"
            ]
          },
          "metadata": {},
          "execution_count": 29
        },
        {
          "output_type": "display_data",
          "data": {
            "text/plain": [
              "<Figure size 640x480 with 1 Axes>"
            ],
            "image/png": "[encoded data removed]"
          },
          "metadata": {}
        }
      ]
    }
  ]
}